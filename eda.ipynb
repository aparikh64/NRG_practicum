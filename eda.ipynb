{
 "cells": [
  {
   "cell_type": "code",
   "execution_count": 32,
   "id": "8076922d",
   "metadata": {},
   "outputs": [],
   "source": [
    "import numpy as np\n",
    "import pandas as pd\n",
    "import matplotlib.pylab as plt\n",
    "import seaborn as sns"
   ]
  },
  {
   "cell_type": "code",
   "execution_count": 33,
   "id": "c8ef035f",
   "metadata": {},
   "outputs": [],
   "source": [
    "df = pd.read_excel('ecoshare_sales.xlsx', sheet_name='Data')"
   ]
  },
  {
   "cell_type": "code",
   "execution_count": 34,
   "id": "2e5d5b83",
   "metadata": {},
   "outputs": [],
   "source": [
    "#engineer features based on order day\n",
    "df['order_day'] = pd.to_datetime(df['order_day'])\n",
    "df['order_day_month'] = df['order_day'].dt.strftime('%m')\n",
    "df['order_day_day_of_week'] = df['order_day'].dt.day_name()\n",
    "df['order_day_day_of_month'] = df['order_day'].dt.day"
   ]
  },
  {
   "cell_type": "code",
   "execution_count": 35,
   "id": "6acce1da",
   "metadata": {},
   "outputs": [
    {
     "name": "stdout",
     "output_type": "stream",
     "text": [
      "(94601, 37)\n",
      "Index(['order_day', 'accept', 'tos_flg', 'disconotice_flg',\n",
      "       'oam_activelogin_cnt', 'term_length', 'called_numcalls_cnt',\n",
      "       'latefee_flg', 'dwelling_type_cd', 'curr_usage', 'product_type_cd',\n",
      "       'pool', 'automatic_payment_flg', 'weblog_flg', 'ca_tenure_bucket',\n",
      "       'risk_level', 'deposit_onhand_amt', 'ebill_enroll_flag', 'called_flg',\n",
      "       'oam_flg', 'sap_productname', 'numweblog_cnt', 'disconnects_flg',\n",
      "       'load_profile', 'city', 'zipcode', 'home_value', 'county', 'tdsp',\n",
      "       'dwelling_type', 'dma', 'ev_driver', 'segment', 'customer_id',\n",
      "       'order_day_month', 'order_day_day_of_week', 'order_day_day_of_month'],\n",
      "      dtype='object')\n"
     ]
    }
   ],
   "source": [
    "print(df.shape)\n",
    "print(df.columns)"
   ]
  },
  {
   "cell_type": "code",
   "execution_count": 56,
   "id": "a935b9f7",
   "metadata": {},
   "outputs": [
    {
     "name": "stdout",
     "output_type": "stream",
     "text": [
      "blank    84253\n",
      "Y        10348\n",
      "Name: tos_flg, dtype: int64\n",
      "\n",
      "N    90046\n",
      "Y     4555\n",
      "Name: disconotice_flg, dtype: int64\n"
     ]
    }
   ],
   "source": [
    "#tos_flg\n",
    "print(\"before processing: \")\n",
    "print(df['tos_flg'].value_counts(dropna=False))\n",
    "df['tos_flg'].fillna('blank', inplace=True)\n",
    "print(\"after processing: \")\n",
    "print(df['tos_flg'].value_counts(dropna=False))\n",
    "print()\n",
    "\n",
    "#disconotice_flg\n",
    "print(\"before processing: \")\n",
    "print(df['disconotice_flg'].value_counts(dropna=False))\n",
    "df['disconotice_flg'].fillna('blank', inplace=True)\n",
    "print(\"after processing: \")\n",
    "print(df['disconotice_flg'].value_counts(dropna=False))\n"
   ]
  },
  {
   "cell_type": "code",
   "execution_count": 54,
   "id": "19cf0d5f",
   "metadata": {},
   "outputs": [
    {
     "name": "stdout",
     "output_type": "stream",
     "text": [
      "N    90046\n",
      "Y     4555\n",
      "Name: disconotice_flg, dtype: int64\n"
     ]
    }
   ],
   "source": [
    "print(df['disconotice_flg'].value_counts(dropna=False))"
   ]
  },
  {
   "cell_type": "code",
   "execution_count": 37,
   "id": "c063824d",
   "metadata": {},
   "outputs": [
    {
     "data": {
      "text/plain": [
       "order_day                 datetime64[ns]\n",
       "accept                             int64\n",
       "tos_flg                           object\n",
       "disconotice_flg                   object\n",
       "oam_activelogin_cnt                int64\n",
       "term_length                       object\n",
       "called_numcalls_cnt                int64\n",
       "latefee_flg                       object\n",
       "dwelling_type_cd                  object\n",
       "curr_usage                       float64\n",
       "product_type_cd                   object\n",
       "pool                              object\n",
       "automatic_payment_flg             object\n",
       "weblog_flg                        object\n",
       "ca_tenure_bucket                 float64\n",
       "risk_level                        object\n",
       "deposit_onhand_amt               float64\n",
       "ebill_enroll_flag                 object\n",
       "called_flg                        object\n",
       "oam_flg                           object\n",
       "sap_productname                   object\n",
       "numweblog_cnt                      int64\n",
       "disconnects_flg                   object\n",
       "load_profile                      object\n",
       "city                              object\n",
       "zipcode                            int64\n",
       "home_value                       float64\n",
       "county                            object\n",
       "tdsp                              object\n",
       "dwelling_type                     object\n",
       "dma                               object\n",
       "ev_driver                         object\n",
       "segment                            int64\n",
       "customer_id                        int64\n",
       "order_day_month                   object\n",
       "order_day_day_of_week             object\n",
       "order_day_day_of_month             int64\n",
       "dtype: object"
      ]
     },
     "execution_count": 37,
     "metadata": {},
     "output_type": "execute_result"
    }
   ],
   "source": [
    "df.dtypes"
   ]
  },
  {
   "cell_type": "code",
   "execution_count": 9,
   "id": "7bf62af0",
   "metadata": {},
   "outputs": [
    {
     "data": {
      "text/plain": [
       "order_day                 object\n",
       "accept                     int64\n",
       "tos_flg                   object\n",
       "disconotice_flg           object\n",
       "oam_activelogin_cnt        int64\n",
       "term_length               object\n",
       "called_numcalls_cnt        int64\n",
       "latefee_flg               object\n",
       "dwelling_type_cd          object\n",
       "curr_usage               float64\n",
       "product_type_cd           object\n",
       "pool                      object\n",
       "automatic_payment_flg     object\n",
       "weblog_flg                object\n",
       "ca_tenure_bucket         float64\n",
       "risk_level                object\n",
       "deposit_onhand_amt       float64\n",
       "ebill_enroll_flag         object\n",
       "called_flg                object\n",
       "oam_flg                   object\n",
       "sap_productname           object\n",
       "numweblog_cnt              int64\n",
       "disconnects_flg           object\n",
       "load_profile              object\n",
       "city                      object\n",
       "zipcode                    int64\n",
       "home_value               float64\n",
       "county                    object\n",
       "tdsp                      object\n",
       "dwelling_type             object\n",
       "dma                       object\n",
       "ev_driver                 object\n",
       "segment                    int64\n",
       "customer_id                int64\n",
       "dtype: object"
      ]
     },
     "execution_count": 9,
     "metadata": {},
     "output_type": "execute_result"
    }
   ],
   "source": [
    "df.dtypes"
   ]
  },
  {
   "cell_type": "code",
   "execution_count": 7,
   "id": "e36599c6",
   "metadata": {},
   "outputs": [
    {
     "data": {
      "text/html": [
       "<div>\n",
       "<style scoped>\n",
       "    .dataframe tbody tr th:only-of-type {\n",
       "        vertical-align: middle;\n",
       "    }\n",
       "\n",
       "    .dataframe tbody tr th {\n",
       "        vertical-align: top;\n",
       "    }\n",
       "\n",
       "    .dataframe thead th {\n",
       "        text-align: right;\n",
       "    }\n",
       "</style>\n",
       "<table border=\"1\" class=\"dataframe\">\n",
       "  <thead>\n",
       "    <tr style=\"text-align: right;\">\n",
       "      <th></th>\n",
       "      <th>accept</th>\n",
       "      <th>oam_activelogin_cnt</th>\n",
       "      <th>called_numcalls_cnt</th>\n",
       "      <th>curr_usage</th>\n",
       "      <th>ca_tenure_bucket</th>\n",
       "      <th>deposit_onhand_amt</th>\n",
       "      <th>numweblog_cnt</th>\n",
       "      <th>zipcode</th>\n",
       "      <th>home_value</th>\n",
       "      <th>segment</th>\n",
       "      <th>customer_id</th>\n",
       "    </tr>\n",
       "  </thead>\n",
       "  <tbody>\n",
       "    <tr>\n",
       "      <th>count</th>\n",
       "      <td>94601.000000</td>\n",
       "      <td>94601.000000</td>\n",
       "      <td>94601.000000</td>\n",
       "      <td>82724.000000</td>\n",
       "      <td>0.000000</td>\n",
       "      <td>5328.000000</td>\n",
       "      <td>94601.000000</td>\n",
       "      <td>94601.000000</td>\n",
       "      <td>23243.000000</td>\n",
       "      <td>94601.000000</td>\n",
       "      <td>94601.000000</td>\n",
       "    </tr>\n",
       "    <tr>\n",
       "      <th>mean</th>\n",
       "      <td>0.192292</td>\n",
       "      <td>0.022051</td>\n",
       "      <td>0.331054</td>\n",
       "      <td>881.673263</td>\n",
       "      <td>nan</td>\n",
       "      <td>173.983714</td>\n",
       "      <td>0.234046</td>\n",
       "      <td>652725235.499434</td>\n",
       "      <td>257807.333262</td>\n",
       "      <td>5.872464</td>\n",
       "      <td>30757.602383</td>\n",
       "    </tr>\n",
       "    <tr>\n",
       "      <th>std</th>\n",
       "      <td>0.394103</td>\n",
       "      <td>0.146849</td>\n",
       "      <td>0.900376</td>\n",
       "      <td>778.177613</td>\n",
       "      <td>nan</td>\n",
       "      <td>122.880613</td>\n",
       "      <td>1.569587</td>\n",
       "      <td>275211745.008751</td>\n",
       "      <td>446489.655506</td>\n",
       "      <td>3.290823</td>\n",
       "      <td>17821.821702</td>\n",
       "    </tr>\n",
       "    <tr>\n",
       "      <th>min</th>\n",
       "      <td>0.000000</td>\n",
       "      <td>0.000000</td>\n",
       "      <td>0.000000</td>\n",
       "      <td>-1387.000000</td>\n",
       "      <td>nan</td>\n",
       "      <td>4.000000</td>\n",
       "      <td>0.000000</td>\n",
       "      <td>75002.000000</td>\n",
       "      <td>189.000000</td>\n",
       "      <td>1.000000</td>\n",
       "      <td>0.000000</td>\n",
       "    </tr>\n",
       "    <tr>\n",
       "      <th>25%</th>\n",
       "      <td>0.000000</td>\n",
       "      <td>0.000000</td>\n",
       "      <td>0.000000</td>\n",
       "      <td>334.000000</td>\n",
       "      <td>nan</td>\n",
       "      <td>75.000000</td>\n",
       "      <td>0.000000</td>\n",
       "      <td>752112558.000000</td>\n",
       "      <td>135141.000000</td>\n",
       "      <td>3.000000</td>\n",
       "      <td>15307.000000</td>\n",
       "    </tr>\n",
       "    <tr>\n",
       "      <th>50%</th>\n",
       "      <td>0.000000</td>\n",
       "      <td>0.000000</td>\n",
       "      <td>0.000000</td>\n",
       "      <td>701.000000</td>\n",
       "      <td>nan</td>\n",
       "      <td>150.000000</td>\n",
       "      <td>0.000000</td>\n",
       "      <td>770156440.000000</td>\n",
       "      <td>220236.000000</td>\n",
       "      <td>5.000000</td>\n",
       "      <td>30697.000000</td>\n",
       "    </tr>\n",
       "    <tr>\n",
       "      <th>75%</th>\n",
       "      <td>0.000000</td>\n",
       "      <td>0.000000</td>\n",
       "      <td>0.000000</td>\n",
       "      <td>1228.000000</td>\n",
       "      <td>nan</td>\n",
       "      <td>250.000000</td>\n",
       "      <td>0.000000</td>\n",
       "      <td>773736751.000000</td>\n",
       "      <td>321910.000000</td>\n",
       "      <td>9.000000</td>\n",
       "      <td>46078.000000</td>\n",
       "    </tr>\n",
       "    <tr>\n",
       "      <th>max</th>\n",
       "      <td>1.000000</td>\n",
       "      <td>1.000000</td>\n",
       "      <td>48.000000</td>\n",
       "      <td>16677.000000</td>\n",
       "      <td>nan</td>\n",
       "      <td>1750.000000</td>\n",
       "      <td>313.000000</td>\n",
       "      <td>798454411.000000</td>\n",
       "      <td>42414880.000000</td>\n",
       "      <td>12.000000</td>\n",
       "      <td>61893.000000</td>\n",
       "    </tr>\n",
       "  </tbody>\n",
       "</table>\n",
       "</div>"
      ],
      "text/plain": [
       "             accept oam_activelogin_cnt called_numcalls_cnt    curr_usage  \\\n",
       "count  94601.000000        94601.000000        94601.000000  82724.000000   \n",
       "mean       0.192292            0.022051            0.331054    881.673263   \n",
       "std        0.394103            0.146849            0.900376    778.177613   \n",
       "min        0.000000            0.000000            0.000000  -1387.000000   \n",
       "25%        0.000000            0.000000            0.000000    334.000000   \n",
       "50%        0.000000            0.000000            0.000000    701.000000   \n",
       "75%        0.000000            0.000000            0.000000   1228.000000   \n",
       "max        1.000000            1.000000           48.000000  16677.000000   \n",
       "\n",
       "      ca_tenure_bucket deposit_onhand_amt numweblog_cnt           zipcode  \\\n",
       "count         0.000000        5328.000000  94601.000000      94601.000000   \n",
       "mean               nan         173.983714      0.234046  652725235.499434   \n",
       "std                nan         122.880613      1.569587  275211745.008751   \n",
       "min                nan           4.000000      0.000000      75002.000000   \n",
       "25%                nan          75.000000      0.000000  752112558.000000   \n",
       "50%                nan         150.000000      0.000000  770156440.000000   \n",
       "75%                nan         250.000000      0.000000  773736751.000000   \n",
       "max                nan        1750.000000    313.000000  798454411.000000   \n",
       "\n",
       "            home_value       segment   customer_id  \n",
       "count     23243.000000  94601.000000  94601.000000  \n",
       "mean     257807.333262      5.872464  30757.602383  \n",
       "std      446489.655506      3.290823  17821.821702  \n",
       "min         189.000000      1.000000      0.000000  \n",
       "25%      135141.000000      3.000000  15307.000000  \n",
       "50%      220236.000000      5.000000  30697.000000  \n",
       "75%      321910.000000      9.000000  46078.000000  \n",
       "max    42414880.000000     12.000000  61893.000000  "
      ]
     },
     "execution_count": 7,
     "metadata": {},
     "output_type": "execute_result"
    }
   ],
   "source": [
    "df.describe().apply(lambda s: s.apply(lambda x: format(x, 'f')))"
   ]
  },
  {
   "cell_type": "code",
   "execution_count": null,
   "id": "9cae95e0",
   "metadata": {},
   "outputs": [],
   "source": [
    "# possible feature generation:\n",
    "# turn order day into month\n",
    "# turn order day into day of week\n",
    "# turn order day into days from end of the month (approaching month end)\n",
    "# use customer ID to figure out how many times you're calling the same customer"
   ]
  },
  {
   "cell_type": "code",
   "execution_count": null,
   "id": "2221f564",
   "metadata": {},
   "outputs": [],
   "source": [
    "# questions\n",
    "# 1. if tos_flg is blank, can we assume it is null?"
   ]
  }
 ],
 "metadata": {
  "kernelspec": {
   "display_name": "Python 3 (ipykernel)",
   "language": "python",
   "name": "python3"
  },
  "language_info": {
   "codemirror_mode": {
    "name": "ipython",
    "version": 3
   },
   "file_extension": ".py",
   "mimetype": "text/x-python",
   "name": "python",
   "nbconvert_exporter": "python",
   "pygments_lexer": "ipython3",
   "version": "3.11.5"
  }
 },
 "nbformat": 4,
 "nbformat_minor": 5
}
